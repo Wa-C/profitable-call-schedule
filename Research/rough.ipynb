{
 "cells": [
  {
   "cell_type": "code",
   "execution_count": null,
   "metadata": {},
   "outputs": [],
   "source": [
    "import pandas as pd\n",
    "import json\n",
    "import os\n",
    "\n",
    "# Function to load JSON data\n",
    "def load_json_data(file_path):\n",
    "    \"\"\"Load JSON data from the given file path.\"\"\"\n",
    "    with open(file_path, 'r') as file:\n",
    "        data = json.load(file)\n",
    "    return data\n",
    "\n"
   ]
  },
  {
   "cell_type": "code",
   "execution_count": null,
   "metadata": {},
   "outputs": [],
   "source": [
    "# Function to integrate data from different sources\n",
    "def integrate_data(schedule_data, call_data, report_data, workers_data):\n",
    "    report_df = pd.DataFrame(report_data)\n",
    "    workers_df = pd.DataFrame.from_dict(workers_data, orient='index').reset_index()\n",
    "    workers_df.columns = ['worker_id', 'name', 'office']\n",
    "\n",
    "    call_records = []\n",
    "    for location, calls in call_data.items():\n",
    "        for call_id, details in calls.items():\n",
    "            call_records.append({'call_id': call_id, 'location': location, **details})\n",
    "    call_df = pd.DataFrame(call_records)\n",
    "\n",
    "    merged_df = call_df.merge(report_df, on='call_id', how='left')\n",
    "    merged_df = merged_df.merge(workers_df, on='worker_id', how='left')\n",
    "    return merged_df\n"
   ]
  },
  {
   "cell_type": "code",
   "execution_count": null,
   "metadata": {},
   "outputs": [],
   "source": [
    "# Function to create additional features for analysis\n",
    "def create_features(data):\n",
    "    data['profit_per_minute'] = data['call_profit'] / data['call_time']\n",
    "    data['call_efficiency'] = data['likely_to_recommend'] * data['profit_per_minute']\n",
    "    return data\n"
   ]
  },
  {
   "cell_type": "code",
   "execution_count": null,
   "metadata": {},
   "outputs": [],
   "source": [
    "# Function to update the next week's call schedule for higher profitability\n",
    "def update_next_weeks_schedule(base_schedule_path, data, output_path, max_calls_per_worker=5):\n",
    "    base_schedule = load_json_data(base_schedule_path)\n",
    "    data_sorted = data.sort_values(by=['call_efficiency', 'call_profit'], ascending=False)\n",
    "    worker_call_count = {}\n",
    "    next_week_schedule = {}\n",
    "\n",
    "    for location, calls in base_schedule.items():\n",
    "        next_week_schedule[location] = {}\n",
    "        for call_id, details in calls.items():\n",
    "            for _, row in data_sorted.iterrows():\n",
    "                worker_id = row['worker_id']\n",
    "                if worker_id not in worker_call_count:\n",
    "                    worker_call_count[worker_id] = 0\n",
    "                if worker_call_count[worker_id] < max_calls_per_worker:\n",
    "                    if row['call_id'] == call_id:\n",
    "                        next_week_schedule[location][call_id] = {\n",
    "                            \"date\": details[\"date\"],\n",
    "                            \"tlf_number\": details[\"tlf_number\"],\n",
    "                            \"technical_problem\": row['technical_problem'],\n",
    "                            \"difficulty\": row['difficulty'],\n",
    "                            \"commission\": row['commission']\n",
    "                        }\n",
    "                        worker_call_count[worker_id] += 1\n",
    "                        break\n",
    "    os.makedirs(os.path.dirname(output_path), exist_ok=True)\n",
    "    with open(output_path, 'w') as file:\n",
    "        json.dump(next_week_schedule, file, indent=4)\n",
    "    print(f\"Updated profitable schedule saved to {output_path}\")\n",
    "\n"
   ]
  },
  {
   "cell_type": "code",
   "execution_count": null,
   "metadata": {},
   "outputs": [],
   "source": [
    "# Load all required files\n",
    "schedule_data = load_json_data('call_shedule_0.json')\n",
    "call_data = load_json_data('calls_0.json')\n",
    "report_data = load_json_data('call_report_0.json')\n",
    "workers_data = load_json_data('workers.json')\n",
    "next_weeks_base_path = 'calls_11.json'\n",
    "\n",
    "# Integrate data\n",
    "integrated_df = integrate_data(schedule_data, call_data, report_data, workers_data)\n",
    "\n",
    "# Create features\n",
    "enriched_df = create_features(integrated_df)\n",
    "\n",
    "# Update next week's schedule for profitability\n",
    "update_next_weeks_schedule(next_weeks_base_path, enriched_df, 'output/updated_next_week_calls.json')\n"
   ]
  },
  {
   "cell_type": "code",
   "execution_count": null,
   "metadata": {},
   "outputs": [],
   "source": []
  },
  {
   "cell_type": "code",
   "execution_count": null,
   "metadata": {},
   "outputs": [],
   "source": []
  }
 ],
 "metadata": {
  "kernelspec": {
   "display_name": "Python 3",
   "language": "python",
   "name": "python3"
  },
  "language_info": {
   "codemirror_mode": {
    "name": "ipython",
    "version": 3
   },
   "file_extension": ".py",
   "mimetype": "text/x-python",
   "name": "python",
   "nbconvert_exporter": "python",
   "pygments_lexer": "ipython3",
   "version": "3.12.7"
  }
 },
 "nbformat": 4,
 "nbformat_minor": 2
}
